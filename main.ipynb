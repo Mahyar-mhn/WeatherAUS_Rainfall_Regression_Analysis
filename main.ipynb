{
 "cells": [
  {
   "metadata": {},
   "cell_type": "markdown",
   "source": "# 1. Data Selection and Cleaning",
   "id": "1e9dc750206f8b27"
  },
  {
   "cell_type": "code",
   "id": "initial_id",
   "metadata": {
    "collapsed": true,
    "ExecuteTime": {
     "end_time": "2025-05-31T09:27:09.060870Z",
     "start_time": "2025-05-31T09:27:05.381079Z"
    }
   },
   "source": [
    "import numpy as np\n",
    "import pandas as pd\n",
    "import matplotlib.pyplot as plt"
   ],
   "outputs": [],
   "execution_count": 1
  },
  {
   "metadata": {
    "ExecuteTime": {
     "end_time": "2025-05-31T09:32:10.439989Z",
     "start_time": "2025-05-31T09:32:10.270646Z"
    }
   },
   "cell_type": "code",
   "source": "df = pd.read_csv('weatherAUS.csv')",
   "id": "3535320be85d49d6",
   "outputs": [],
   "execution_count": 7
  },
  {
   "metadata": {
    "ExecuteTime": {
     "end_time": "2025-05-31T09:32:11.327177Z",
     "start_time": "2025-05-31T09:32:11.322178Z"
    }
   },
   "cell_type": "code",
   "source": "df.shape",
   "id": "56d097865aaa97c4",
   "outputs": [
    {
     "data": {
      "text/plain": [
       "(142193, 24)"
      ]
     },
     "execution_count": 8,
     "metadata": {},
     "output_type": "execute_result"
    }
   ],
   "execution_count": 8
  },
  {
   "metadata": {
    "ExecuteTime": {
     "end_time": "2025-05-31T09:32:12.574968Z",
     "start_time": "2025-05-31T09:32:12.569969Z"
    }
   },
   "cell_type": "code",
   "source": "df.columns",
   "id": "59848172e09ec07f",
   "outputs": [
    {
     "data": {
      "text/plain": [
       "Index(['Date', 'Location', 'MinTemp', 'MaxTemp', 'Rainfall', 'Evaporation',\n",
       "       'Sunshine', 'WindGustDir', 'WindGustSpeed', 'WindDir9am', 'WindDir3pm',\n",
       "       'WindSpeed9am', 'WindSpeed3pm', 'Humidity9am', 'Humidity3pm',\n",
       "       'Pressure9am', 'Pressure3pm', 'Cloud9am', 'Cloud3pm', 'Temp9am',\n",
       "       'Temp3pm', 'RainToday', 'RISK_MM', 'RainTomorrow'],\n",
       "      dtype='object')"
      ]
     },
     "execution_count": 9,
     "metadata": {},
     "output_type": "execute_result"
    }
   ],
   "execution_count": 9
  },
  {
   "metadata": {
    "ExecuteTime": {
     "end_time": "2025-05-31T09:37:58.236667Z",
     "start_time": "2025-05-31T09:37:58.226672Z"
    }
   },
   "cell_type": "code",
   "source": [
    "city = \"Sydney\"\n",
    "df_Sydney = df[df[\"Location\"] == city].copy()"
   ],
   "id": "765e27fa6565d2c7",
   "outputs": [],
   "execution_count": 22
  },
  {
   "metadata": {
    "ExecuteTime": {
     "end_time": "2025-05-31T09:38:19.289117Z",
     "start_time": "2025-05-31T09:38:19.283787Z"
    }
   },
   "cell_type": "code",
   "source": "df_Sydney.shape",
   "id": "4f663f2b21a2761a",
   "outputs": [
    {
     "data": {
      "text/plain": [
       "(3337, 24)"
      ]
     },
     "execution_count": 26,
     "metadata": {},
     "output_type": "execute_result"
    }
   ],
   "execution_count": 26
  },
  {
   "metadata": {
    "ExecuteTime": {
     "end_time": "2025-05-31T09:39:56.461795Z",
     "start_time": "2025-05-31T09:39:56.454484Z"
    }
   },
   "cell_type": "code",
   "source": "df_Sydney.columns",
   "id": "ef1897c88d8f47de",
   "outputs": [
    {
     "data": {
      "text/plain": [
       "Index(['Date', 'Location', 'MinTemp', 'MaxTemp', 'Rainfall', 'Evaporation',\n",
       "       'Sunshine', 'WindGustDir', 'WindGustSpeed', 'WindDir9am', 'WindDir3pm',\n",
       "       'WindSpeed9am', 'WindSpeed3pm', 'Humidity9am', 'Humidity3pm',\n",
       "       'Pressure9am', 'Pressure3pm', 'Cloud9am', 'Cloud3pm', 'Temp9am',\n",
       "       'Temp3pm', 'RainToday', 'RISK_MM', 'RainTomorrow'],\n",
       "      dtype='object')"
      ]
     },
     "execution_count": 27,
     "metadata": {},
     "output_type": "execute_result"
    }
   ],
   "execution_count": 27
  },
  {
   "metadata": {},
   "cell_type": "code",
   "outputs": [],
   "execution_count": null,
   "source": "",
   "id": "b939556ff725a81e"
  }
 ],
 "metadata": {
  "kernelspec": {
   "display_name": "Python 3",
   "language": "python",
   "name": "python3"
  },
  "language_info": {
   "codemirror_mode": {
    "name": "ipython",
    "version": 2
   },
   "file_extension": ".py",
   "mimetype": "text/x-python",
   "name": "python",
   "nbconvert_exporter": "python",
   "pygments_lexer": "ipython2",
   "version": "2.7.6"
  }
 },
 "nbformat": 4,
 "nbformat_minor": 5
}
