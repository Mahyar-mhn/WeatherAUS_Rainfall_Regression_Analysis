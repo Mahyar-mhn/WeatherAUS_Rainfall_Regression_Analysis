{
 "cells": [
  {
   "metadata": {},
   "cell_type": "markdown",
   "source": "# 1. Data Selection and Cleaning",
   "id": "1e9dc750206f8b27"
  },
  {
   "cell_type": "code",
   "id": "initial_id",
   "metadata": {
    "collapsed": true,
    "ExecuteTime": {
     "end_time": "2025-06-01T07:17:53.637155Z",
     "start_time": "2025-06-01T07:17:52.150524Z"
    }
   },
   "source": [
    "import numpy as np\n",
    "import pandas as pd\n",
    "import matplotlib.pyplot as plt"
   ],
   "outputs": [],
   "execution_count": 1
  },
  {
   "metadata": {
    "ExecuteTime": {
     "end_time": "2025-06-01T07:17:53.793119Z",
     "start_time": "2025-06-01T07:17:53.645382Z"
    }
   },
   "cell_type": "code",
   "source": "df = pd.read_csv('weatherAUS.csv')",
   "id": "3535320be85d49d6",
   "outputs": [],
   "execution_count": 2
  },
  {
   "metadata": {
    "ExecuteTime": {
     "end_time": "2025-06-01T07:17:54.094526Z",
     "start_time": "2025-06-01T07:17:54.090662Z"
    }
   },
   "cell_type": "code",
   "source": "df.shape",
   "id": "56d097865aaa97c4",
   "outputs": [
    {
     "data": {
      "text/plain": [
       "(142193, 24)"
      ]
     },
     "execution_count": 3,
     "metadata": {},
     "output_type": "execute_result"
    }
   ],
   "execution_count": 3
  },
  {
   "metadata": {
    "ExecuteTime": {
     "end_time": "2025-06-01T07:17:54.184920Z",
     "start_time": "2025-06-01T07:17:54.180915Z"
    }
   },
   "cell_type": "code",
   "source": "df.columns",
   "id": "59848172e09ec07f",
   "outputs": [
    {
     "data": {
      "text/plain": [
       "Index(['Date', 'Location', 'MinTemp', 'MaxTemp', 'Rainfall', 'Evaporation',\n",
       "       'Sunshine', 'WindGustDir', 'WindGustSpeed', 'WindDir9am', 'WindDir3pm',\n",
       "       'WindSpeed9am', 'WindSpeed3pm', 'Humidity9am', 'Humidity3pm',\n",
       "       'Pressure9am', 'Pressure3pm', 'Cloud9am', 'Cloud3pm', 'Temp9am',\n",
       "       'Temp3pm', 'RainToday', 'RISK_MM', 'RainTomorrow'],\n",
       "      dtype='object')"
      ]
     },
     "execution_count": 4,
     "metadata": {},
     "output_type": "execute_result"
    }
   ],
   "execution_count": 4
  },
  {
   "metadata": {
    "ExecuteTime": {
     "end_time": "2025-06-01T07:17:54.334237Z",
     "start_time": "2025-06-01T07:17:54.325430Z"
    }
   },
   "cell_type": "code",
   "source": [
    "city = \"Sydney\"\n",
    "df_Sydney = df[df[\"Location\"] == city].copy()"
   ],
   "id": "765e27fa6565d2c7",
   "outputs": [],
   "execution_count": 5
  },
  {
   "metadata": {
    "ExecuteTime": {
     "end_time": "2025-06-01T07:17:54.378188Z",
     "start_time": "2025-06-01T07:17:54.374684Z"
    }
   },
   "cell_type": "code",
   "source": "df_Sydney.shape",
   "id": "4f663f2b21a2761a",
   "outputs": [
    {
     "data": {
      "text/plain": [
       "(3337, 24)"
      ]
     },
     "execution_count": 6,
     "metadata": {},
     "output_type": "execute_result"
    }
   ],
   "execution_count": 6
  },
  {
   "metadata": {
    "ExecuteTime": {
     "end_time": "2025-06-01T07:17:54.461762Z",
     "start_time": "2025-06-01T07:17:54.458121Z"
    }
   },
   "cell_type": "code",
   "source": "df_Sydney.columns",
   "id": "ef1897c88d8f47de",
   "outputs": [
    {
     "data": {
      "text/plain": [
       "Index(['Date', 'Location', 'MinTemp', 'MaxTemp', 'Rainfall', 'Evaporation',\n",
       "       'Sunshine', 'WindGustDir', 'WindGustSpeed', 'WindDir9am', 'WindDir3pm',\n",
       "       'WindSpeed9am', 'WindSpeed3pm', 'Humidity9am', 'Humidity3pm',\n",
       "       'Pressure9am', 'Pressure3pm', 'Cloud9am', 'Cloud3pm', 'Temp9am',\n",
       "       'Temp3pm', 'RainToday', 'RISK_MM', 'RainTomorrow'],\n",
       "      dtype='object')"
      ]
     },
     "execution_count": 7,
     "metadata": {},
     "output_type": "execute_result"
    }
   ],
   "execution_count": 7
  },
  {
   "metadata": {
    "ExecuteTime": {
     "end_time": "2025-06-01T07:18:38.982451Z",
     "start_time": "2025-06-01T07:18:38.979865Z"
    }
   },
   "cell_type": "code",
   "source": [
    "selected_features = [\n",
    "    \"Rainfall\",       # Target\n",
    "    \"MinTemp\",\n",
    "    \"MaxTemp\",\n",
    "    \"Humidity3pm\",\n",
    "    \"Pressure3pm\",\n",
    "    \"WindSpeed3pm\",\n",
    "    \"Cloud3pm\",\n",
    "    \"RainToday\"       # Binary indicator\n",
    "]"
   ],
   "id": "b939556ff725a81e",
   "outputs": [],
   "execution_count": 9
  },
  {
   "metadata": {
    "ExecuteTime": {
     "end_time": "2025-06-01T07:18:45.924528Z",
     "start_time": "2025-06-01T07:18:45.920356Z"
    }
   },
   "cell_type": "code",
   "source": "df_selected = df_Sydney[selected_features]",
   "id": "509414a145d650a1",
   "outputs": [],
   "execution_count": 10
  },
  {
   "metadata": {
    "ExecuteTime": {
     "end_time": "2025-06-01T07:19:43.464832Z",
     "start_time": "2025-06-01T07:19:43.460939Z"
    }
   },
   "cell_type": "code",
   "source": "missing_values = df_selected.isnull().sum()",
   "id": "c9e024baf690cc55",
   "outputs": [],
   "execution_count": 11
  },
  {
   "metadata": {
    "ExecuteTime": {
     "end_time": "2025-06-01T07:20:08.587110Z",
     "start_time": "2025-06-01T07:20:08.583110Z"
    }
   },
   "cell_type": "code",
   "source": [
    "print(\"Missing values per feature:\")\n",
    "print(missing_values)"
   ],
   "id": "7cf6f1d2a42794b0",
   "outputs": [
    {
     "name": "stdout",
     "output_type": "stream",
     "text": [
      "Missing values per feature:\n",
      "Rainfall          6\n",
      "MinTemp           3\n",
      "MaxTemp           2\n",
      "Humidity3pm      13\n",
      "Pressure3pm      19\n",
      "WindSpeed3pm     25\n",
      "Cloud3pm        561\n",
      "RainToday         6\n",
      "dtype: int64\n"
     ]
    }
   ],
   "execution_count": 14
  },
  {
   "metadata": {},
   "cell_type": "code",
   "outputs": [],
   "execution_count": null,
   "source": "",
   "id": "914b75fac8ccfcd7"
  }
 ],
 "metadata": {
  "kernelspec": {
   "display_name": "Python 3",
   "language": "python",
   "name": "python3"
  },
  "language_info": {
   "codemirror_mode": {
    "name": "ipython",
    "version": 2
   },
   "file_extension": ".py",
   "mimetype": "text/x-python",
   "name": "python",
   "nbconvert_exporter": "python",
   "pygments_lexer": "ipython2",
   "version": "2.7.6"
  }
 },
 "nbformat": 4,
 "nbformat_minor": 5
}
