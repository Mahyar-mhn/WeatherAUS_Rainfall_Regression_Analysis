{
 "cells": [
  {
   "metadata": {},
   "cell_type": "markdown",
   "source": "# 1. Data Selection and Cleaning",
   "id": "1e9dc750206f8b27"
  },
  {
   "cell_type": "code",
   "id": "initial_id",
   "metadata": {
    "collapsed": true,
    "ExecuteTime": {
     "end_time": "2025-06-03T08:00:27.008402Z",
     "start_time": "2025-06-03T08:00:27.005549Z"
    }
   },
   "source": [
    "import numpy as np\n",
    "import pandas as pd\n",
    "import matplotlib.pyplot as plt\n",
    "import seaborn as sns\n",
    "import warnings\n",
    "warnings.filterwarnings('ignore')"
   ],
   "outputs": [],
   "execution_count": 1
  },
  {
   "metadata": {
    "ExecuteTime": {
     "end_time": "2025-06-03T08:00:27.206765Z",
     "start_time": "2025-06-03T08:00:27.018407Z"
    }
   },
   "cell_type": "code",
   "source": "df = pd.read_csv('weatherAUS.csv')",
   "id": "3535320be85d49d6",
   "outputs": [],
   "execution_count": 2
  },
  {
   "metadata": {
    "ExecuteTime": {
     "end_time": "2025-06-03T08:00:27.357508Z",
     "start_time": "2025-06-03T08:00:27.352849Z"
    }
   },
   "cell_type": "code",
   "source": "df.shape",
   "id": "56d097865aaa97c4",
   "outputs": [
    {
     "data": {
      "text/plain": [
       "(142193, 24)"
      ]
     },
     "execution_count": 3,
     "metadata": {},
     "output_type": "execute_result"
    }
   ],
   "execution_count": 3
  },
  {
   "metadata": {
    "ExecuteTime": {
     "end_time": "2025-06-03T08:00:27.394845Z",
     "start_time": "2025-06-03T08:00:27.391066Z"
    }
   },
   "cell_type": "code",
   "source": "df.columns",
   "id": "59848172e09ec07f",
   "outputs": [
    {
     "data": {
      "text/plain": [
       "Index(['Date', 'Location', 'MinTemp', 'MaxTemp', 'Rainfall', 'Evaporation',\n",
       "       'Sunshine', 'WindGustDir', 'WindGustSpeed', 'WindDir9am', 'WindDir3pm',\n",
       "       'WindSpeed9am', 'WindSpeed3pm', 'Humidity9am', 'Humidity3pm',\n",
       "       'Pressure9am', 'Pressure3pm', 'Cloud9am', 'Cloud3pm', 'Temp9am',\n",
       "       'Temp3pm', 'RainToday', 'RISK_MM', 'RainTomorrow'],\n",
       "      dtype='object')"
      ]
     },
     "execution_count": 4,
     "metadata": {},
     "output_type": "execute_result"
    }
   ],
   "execution_count": 4
  },
  {
   "metadata": {
    "ExecuteTime": {
     "end_time": "2025-06-03T08:00:27.495687Z",
     "start_time": "2025-06-03T08:00:27.486447Z"
    }
   },
   "cell_type": "code",
   "source": [
    "city = \"Sydney\"\n",
    "df_Sydney = df[df[\"Location\"] == city].copy()"
   ],
   "id": "765e27fa6565d2c7",
   "outputs": [],
   "execution_count": 5
  },
  {
   "metadata": {
    "ExecuteTime": {
     "end_time": "2025-06-03T08:00:27.542599Z",
     "start_time": "2025-06-03T08:00:27.538530Z"
    }
   },
   "cell_type": "code",
   "source": "df_Sydney.shape",
   "id": "4f663f2b21a2761a",
   "outputs": [
    {
     "data": {
      "text/plain": [
       "(3337, 24)"
      ]
     },
     "execution_count": 6,
     "metadata": {},
     "output_type": "execute_result"
    }
   ],
   "execution_count": 6
  },
  {
   "metadata": {
    "ExecuteTime": {
     "end_time": "2025-06-03T08:00:27.590684Z",
     "start_time": "2025-06-03T08:00:27.585672Z"
    }
   },
   "cell_type": "code",
   "source": "df_Sydney.columns",
   "id": "ef1897c88d8f47de",
   "outputs": [
    {
     "data": {
      "text/plain": [
       "Index(['Date', 'Location', 'MinTemp', 'MaxTemp', 'Rainfall', 'Evaporation',\n",
       "       'Sunshine', 'WindGustDir', 'WindGustSpeed', 'WindDir9am', 'WindDir3pm',\n",
       "       'WindSpeed9am', 'WindSpeed3pm', 'Humidity9am', 'Humidity3pm',\n",
       "       'Pressure9am', 'Pressure3pm', 'Cloud9am', 'Cloud3pm', 'Temp9am',\n",
       "       'Temp3pm', 'RainToday', 'RISK_MM', 'RainTomorrow'],\n",
       "      dtype='object')"
      ]
     },
     "execution_count": 7,
     "metadata": {},
     "output_type": "execute_result"
    }
   ],
   "execution_count": 7
  },
  {
   "metadata": {
    "ExecuteTime": {
     "end_time": "2025-06-03T08:00:27.636619Z",
     "start_time": "2025-06-03T08:00:27.633767Z"
    }
   },
   "cell_type": "code",
   "source": [
    "selected_features = [\n",
    "    \"Rainfall\",       # Target\n",
    "    \"MinTemp\",\n",
    "    \"MaxTemp\",\n",
    "    \"Humidity3pm\",\n",
    "    \"Pressure3pm\",\n",
    "    \"WindSpeed3pm\",\n",
    "    \"Cloud3pm\",\n",
    "    \"RainToday\"       # Binary indicator\n",
    "]"
   ],
   "id": "b939556ff725a81e",
   "outputs": [],
   "execution_count": 8
  },
  {
   "metadata": {
    "ExecuteTime": {
     "end_time": "2025-06-03T08:00:27.683981Z",
     "start_time": "2025-06-03T08:00:27.680071Z"
    }
   },
   "cell_type": "code",
   "source": "df_selected = df_Sydney[selected_features]",
   "id": "509414a145d650a1",
   "outputs": [],
   "execution_count": 9
  },
  {
   "metadata": {
    "ExecuteTime": {
     "end_time": "2025-06-03T08:00:27.731241Z",
     "start_time": "2025-06-03T08:00:27.727782Z"
    }
   },
   "cell_type": "code",
   "source": "missing_values = df_selected.isnull().sum()",
   "id": "c9e024baf690cc55",
   "outputs": [],
   "execution_count": 10
  },
  {
   "metadata": {
    "ExecuteTime": {
     "end_time": "2025-06-03T08:00:27.779117Z",
     "start_time": "2025-06-03T08:00:27.775509Z"
    }
   },
   "cell_type": "code",
   "source": [
    "print(\"Missing values per feature:\")\n",
    "print(missing_values)"
   ],
   "id": "7cf6f1d2a42794b0",
   "outputs": [
    {
     "name": "stdout",
     "output_type": "stream",
     "text": [
      "Missing values per feature:\n",
      "Rainfall          6\n",
      "MinTemp           3\n",
      "MaxTemp           2\n",
      "Humidity3pm      13\n",
      "Pressure3pm      19\n",
      "WindSpeed3pm     25\n",
      "Cloud3pm        561\n",
      "RainToday         6\n",
      "dtype: int64\n"
     ]
    }
   ],
   "execution_count": 11
  },
  {
   "metadata": {},
   "cell_type": "markdown",
   "source": [
    "## Missing Value Handling Strategy\n",
    "\n",
    "We applied different imputation methods depending on the data type and distribution of each feature:\n",
    "\n",
    "- **MinTemp & MaxTemp**: Used **mean imputation** because these are continuous variables with likely normal distributions. Mean works well when the data is symmetric and not heavily skewed.\n",
    "\n",
    "- **Humidity3pm & WindSpeed3pm**: Used **median imputation** because these features can be skewed or have outliers (e.g., sudden humidity drops or wind spikes). Median is more robust in such cases.\n",
    "\n",
    "- **Pressure3pm**: Used **mean imputation** assuming atmospheric pressure has a fairly stable, normal distribution.\n",
    "\n",
    "- **Cloud3pm**: Used **mode imputation** because it is a categorical/ordinal feature (values from 0 to 8). The most frequent cloud cover is a good estimate.\n",
    "\n",
    "- **RainToday**: Used **mode imputation** since it's a binary categorical feature ('Yes' or 'No') and using the most frequent value is typically reliable.\n",
    "\n",
    "- **Rainfall**: Used **median imputation** to minimize the effect of outliers (heavy rain days).\n",
    "\n",
    "These strategies ensure our dataset remains as complete and unbiased as possible without introducing distortions from inappropriate replacements.\n"
   ],
   "id": "443f49ee1e5752a7"
  },
  {
   "metadata": {
    "ExecuteTime": {
     "end_time": "2025-06-03T08:00:27.836416Z",
     "start_time": "2025-06-03T08:00:27.824180Z"
    }
   },
   "cell_type": "code",
   "source": [
    "# Handle missing values\n",
    "df_selected[\"MinTemp\"].fillna(df_selected[\"MinTemp\"].mean(), inplace=True)\n",
    "df_selected[\"MaxTemp\"].fillna(df_selected[\"MaxTemp\"].mean(), inplace=True)\n",
    "df_selected[\"Humidity3pm\"].fillna(df_selected[\"Humidity3pm\"].median(), inplace=True)\n",
    "df_selected[\"Pressure3pm\"].fillna(df_selected[\"Pressure3pm\"].mean(), inplace=True)\n",
    "df_selected[\"WindSpeed3pm\"].fillna(df_selected[\"WindSpeed3pm\"].median(), inplace=True)\n",
    "df_selected[\"Cloud3pm\"].fillna(df_selected[\"Cloud3pm\"].mode()[0], inplace=True)\n",
    "df_selected[\"RainToday\"].fillna(df_selected[\"RainToday\"].mode()[0], inplace=True)\n",
    "df_selected[\"Rainfall\"].fillna(df_selected[\"Rainfall\"].median(), inplace=True)"
   ],
   "id": "914b75fac8ccfcd7",
   "outputs": [],
   "execution_count": 12
  },
  {
   "metadata": {
    "ExecuteTime": {
     "end_time": "2025-06-03T08:00:27.881038Z",
     "start_time": "2025-06-03T08:00:27.878184Z"
    }
   },
   "cell_type": "code",
   "source": "missing_values_after_fill = df_selected.isnull().sum()\n",
   "id": "2306b2da217283dc",
   "outputs": [],
   "execution_count": 13
  },
  {
   "metadata": {
    "ExecuteTime": {
     "end_time": "2025-06-03T08:00:27.928355Z",
     "start_time": "2025-06-03T08:00:27.924045Z"
    }
   },
   "cell_type": "code",
   "source": "print(missing_values_after_fill)",
   "id": "402b17de102abf97",
   "outputs": [
    {
     "name": "stdout",
     "output_type": "stream",
     "text": [
      "Rainfall        0\n",
      "MinTemp         0\n",
      "MaxTemp         0\n",
      "Humidity3pm     0\n",
      "Pressure3pm     0\n",
      "WindSpeed3pm    0\n",
      "Cloud3pm        0\n",
      "RainToday       0\n",
      "dtype: int64\n"
     ]
    }
   ],
   "execution_count": 14
  },
  {
   "metadata": {
    "ExecuteTime": {
     "end_time": "2025-06-03T08:00:27.980270Z",
     "start_time": "2025-06-03T08:00:27.973952Z"
    }
   },
   "cell_type": "code",
   "source": [
    "# Compute z-scores\n",
    "rainfall_z = (df_selected[\"Rainfall\"] - df_selected[\"Rainfall\"].mean()) / df_selected[\"Rainfall\"].std()\n",
    "maxtemp_z = (df_selected[\"MaxTemp\"] - df_selected[\"MaxTemp\"].mean()) / df_selected[\"MaxTemp\"].std()\n",
    "\n",
    "# Identify outliers (|z| > 3)\n",
    "rainfall_outliers = df_selected[np.abs(rainfall_z) > 3]\n",
    "maxtemp_outliers = df_selected[np.abs(maxtemp_z) > 3]\n",
    "\n",
    "# Count outliers\n",
    "print(f\"Rainfall outliers: {rainfall_outliers.shape[0]}\")\n",
    "print(f\"MaxTemp outliers: {maxtemp_outliers.shape[0]}\")\n"
   ],
   "id": "90a572dc3bfe021e",
   "outputs": [
    {
     "name": "stdout",
     "output_type": "stream",
     "text": [
      "Rainfall outliers: 71\n",
      "MaxTemp outliers: 28\n"
     ]
    }
   ],
   "execution_count": 15
  },
  {
   "metadata": {
    "ExecuteTime": {
     "end_time": "2025-06-03T08:00:28.261618Z",
     "start_time": "2025-06-03T08:00:28.039609Z"
    }
   },
   "cell_type": "code",
   "source": [
    "# Visualize outliers using boxplots\n",
    "plt.figure(figsize=(12, 5))\n",
    "\n",
    "plt.subplot(1, 2, 1)\n",
    "sns.boxplot(y=df_selected[\"Rainfall\"])\n",
    "plt.title(\"Rainfall Outliers\")\n",
    "\n",
    "plt.subplot(1, 2, 2)\n",
    "sns.boxplot(y=df_selected[\"MaxTemp\"])\n",
    "plt.title(\"MaxTemp Outliers\")\n",
    "\n",
    "plt.tight_layout()\n",
    "plt.show()\n"
   ],
   "id": "73548739601df731",
   "outputs": [
    {
     "data": {
      "text/plain": [
       "<Figure size 1200x500 with 2 Axes>"
      ],
      "image/png": "[encoded data removed]"
     },
     "metadata": {},
     "output_type": "display_data"
    }
   ],
   "execution_count": 16
  },
  {
   "metadata": {
    "ExecuteTime": {
     "end_time": "2025-06-03T08:00:28.315404Z",
     "start_time": "2025-06-03T08:00:28.310589Z"
    }
   },
   "cell_type": "code",
   "source": [
    "# Define threshold\n",
    "z_threshold = 3\n",
    "\n",
    "# Recalculate z-scores\n",
    "rainfall_z = (df_selected[\"Rainfall\"] - df_selected[\"Rainfall\"].mean()) / df_selected[\"Rainfall\"].std()\n",
    "maxtemp_z = (df_selected[\"MaxTemp\"] - df_selected[\"MaxTemp\"].mean()) / df_selected[\"MaxTemp\"].std()\n",
    "\n",
    "# Create mask for valid (non-outlier) entries\n",
    "valid_rows = (np.abs(rainfall_z) <= z_threshold) & (np.abs(maxtemp_z) <= z_threshold)\n",
    "\n",
    "# Filtered dataset without outliers\n",
    "df_clean = df_selected[valid_rows].copy()\n"
   ],
   "id": "155e4ba53e9db85",
   "outputs": [],
   "execution_count": 17
  },
  {
   "metadata": {
    "ExecuteTime": {
     "end_time": "2025-06-03T08:00:28.384890Z",
     "start_time": "2025-06-03T08:00:28.371520Z"
    }
   },
   "cell_type": "code",
   "source": [
    "# Select columns to summarize\n",
    "features = [\"Rainfall\", \"MaxTemp\"]\n",
    "\n",
    "# Compute statistics before removal\n",
    "summary_before = df_selected[features].agg([\"mean\", \"median\", \"std\"]).T\n",
    "summary_before.columns = [\"Mean (Before)\", \"Median (Before)\", \"Std Dev (Before)\"]\n",
    "\n",
    "# Compute statistics after removal\n",
    "summary_after = df_clean[features].agg([\"mean\", \"median\", \"std\"]).T\n",
    "summary_after.columns = [\"Mean (After)\", \"Median (After)\", \"Std Dev (After)\"]\n",
    "\n",
    "# Combine for comparison\n",
    "summary_comparison = pd.concat([summary_before, summary_after], axis=1)\n",
    "summary_comparison\n"
   ],
   "id": "d5668c1f6e77879b",
   "outputs": [
    {
     "data": {
      "text/plain": [
       "          Mean (Before)  Median (Before)  Std Dev (Before)  Mean (After)  \\\n",
       "Rainfall       3.324243              0.0          9.887277      2.199382   \n",
       "MaxTemp       23.002339             22.8          4.493290     22.935517   \n",
       "\n",
       "          Median (After)  Std Dev (After)  \n",
       "Rainfall            0.00         5.387403  \n",
       "MaxTemp            22.85         4.264110  "
      ],
      "text/html": [
       "<div>\n",
       "<style scoped>\n",
       "    .dataframe tbody tr th:only-of-type {\n",
       "        vertical-align: middle;\n",
       "    }\n",
       "\n",
       "    .dataframe tbody tr th {\n",
       "        vertical-align: top;\n",
       "    }\n",
       "\n",
       "    .dataframe thead th {\n",
       "        text-align: right;\n",
       "    }\n",
       "</style>\n",
       "<table border=\"1\" class=\"dataframe\">\n",
       "  <thead>\n",
       "    <tr style=\"text-align: right;\">\n",
       "      <th></th>\n",
       "      <th>Mean (Before)</th>\n",
       "      <th>Median (Before)</th>\n",
       "      <th>Std Dev (Before)</th>\n",
       "      <th>Mean (After)</th>\n",
       "      <th>Median (After)</th>\n",
       "      <th>Std Dev (After)</th>\n",
       "    </tr>\n",
       "  </thead>\n",
       "  <tbody>\n",
       "    <tr>\n",
       "      <th>Rainfall</th>\n",
       "      <td>3.324243</td>\n",
       "      <td>0.0</td>\n",
       "      <td>9.887277</td>\n",
       "      <td>2.199382</td>\n",
       "      <td>0.00</td>\n",
       "      <td>5.387403</td>\n",
       "    </tr>\n",
       "    <tr>\n",
       "      <th>MaxTemp</th>\n",
       "      <td>23.002339</td>\n",
       "      <td>22.8</td>\n",
       "      <td>4.493290</td>\n",
       "      <td>22.935517</td>\n",
       "      <td>22.85</td>\n",
       "      <td>4.264110</td>\n",
       "    </tr>\n",
       "  </tbody>\n",
       "</table>\n",
       "</div>"
      ]
     },
     "execution_count": 18,
     "metadata": {},
     "output_type": "execute_result"
    }
   ],
   "execution_count": 18
  },
  {
   "metadata": {
    "ExecuteTime": {
     "end_time": "2025-06-03T08:00:28.790705Z",
     "start_time": "2025-06-03T08:00:28.472931Z"
    }
   },
   "cell_type": "code",
   "source": [
    "# Set up visual comparison\n",
    "plt.figure(figsize=(14, 6))\n",
    "\n",
    "# Rainfall\n",
    "plt.subplot(2, 2, 1)\n",
    "sns.boxplot(y=df_selected[\"Rainfall\"])\n",
    "plt.title(\"Rainfall (Before Outlier Removal)\")\n",
    "\n",
    "plt.subplot(2, 2, 2)\n",
    "sns.boxplot(y=df_clean[\"Rainfall\"])\n",
    "plt.title(\"Rainfall (After Outlier Removal)\")\n",
    "\n",
    "# MaxTemp\n",
    "plt.subplot(2, 2, 3)\n",
    "sns.boxplot(y=df_selected[\"MaxTemp\"])\n",
    "plt.title(\"MaxTemp (Before Outlier Removal)\")\n",
    "\n",
    "plt.subplot(2, 2, 4)\n",
    "sns.boxplot(y=df_clean[\"MaxTemp\"])\n",
    "plt.title(\"MaxTemp (After Outlier Removal)\")\n",
    "\n",
    "plt.tight_layout()\n",
    "plt.show()\n"
   ],
   "id": "4e95cd93afdeee33",
   "outputs": [
    {
     "data": {
      "text/plain": [
       "<Figure size 1400x600 with 4 Axes>"
      ],
      "image/png": "[encoded data removed]"
     },
     "metadata": {},
     "output_type": "display_data"
    }
   ],
   "execution_count": 19
  },
  {
   "metadata": {
    "ExecuteTime": {
     "end_time": "2025-06-03T08:00:28.819299Z",
     "start_time": "2025-06-03T08:00:28.813877Z"
    }
   },
   "cell_type": "code",
   "source": [
    "# Compute correlations\n",
    "correlation_matrix = df_clean.corr(numeric_only=True)\n",
    "correlation_with_rainfall = correlation_matrix[\"Rainfall\"].sort_values(ascending=False)\n",
    "\n",
    "# Display top correlations\n",
    "print(\"Correlation with Rainfall:\")\n",
    "print(correlation_with_rainfall)\n"
   ],
   "id": "233ec7e1965ddd35",
   "outputs": [
    {
     "name": "stdout",
     "output_type": "stream",
     "text": [
      "Correlation with Rainfall:\n",
      "Rainfall        1.000000\n",
      "Humidity3pm     0.283576\n",
      "Cloud3pm        0.186503\n",
      "MinTemp         0.040682\n",
      "Pressure3pm     0.021585\n",
      "WindSpeed3pm   -0.000783\n",
      "MaxTemp        -0.110901\n",
      "Name: Rainfall, dtype: float64\n"
     ]
    }
   ],
   "execution_count": 20
  },
  {
   "metadata": {
    "ExecuteTime": {
     "end_time": "2025-06-03T08:00:29.009708Z",
     "start_time": "2025-06-03T08:00:28.922849Z"
    }
   },
   "cell_type": "code",
   "source": [
    "# Heatmap of correlations\n",
    "plt.figure(figsize=(8, 5))\n",
    "sns.heatmap(correlation_with_rainfall.to_frame(), annot=True, cmap=\"coolwarm\", cbar=False)\n",
    "plt.title(\"Correlation of Features with Rainfall\")\n",
    "plt.tight_layout()\n",
    "plt.show()\n"
   ],
   "id": "64df6201dec55bf1",
   "outputs": [
    {
     "data": {
      "text/plain": [
       "<Figure size 800x500 with 1 Axes>"
      ],
      "image/png": "[encoded data removed]"
     },
     "metadata": {},
     "output_type": "display_data"
    }
   ],
   "execution_count": 21
  },
  {
   "metadata": {
    "ExecuteTime": {
     "end_time": "2025-06-03T08:00:29.086472Z",
     "start_time": "2025-06-03T08:00:29.081233Z"
    }
   },
   "cell_type": "code",
   "source": [
    "# Select top 5 features (excluding Rainfall itself)\n",
    "top_features = correlation_with_rainfall.drop(\"Rainfall\").abs().sort_values(ascending=False).head(5)\n",
    "print(\"Top 5 features for Rainfall prediction:\")\n",
    "print(top_features)\n"
   ],
   "id": "77291037c6f15ba0",
   "outputs": [
    {
     "name": "stdout",
     "output_type": "stream",
     "text": [
      "Top 5 features for Rainfall prediction:\n",
      "Humidity3pm    0.283576\n",
      "Cloud3pm       0.186503\n",
      "MaxTemp        0.110901\n",
      "MinTemp        0.040682\n",
      "Pressure3pm    0.021585\n",
      "Name: Rainfall, dtype: float64\n"
     ]
    }
   ],
   "execution_count": 22
  },
  {
   "metadata": {
    "ExecuteTime": {
     "end_time": "2025-06-03T08:00:29.168905Z",
     "start_time": "2025-06-03T08:00:29.163808Z"
    }
   },
   "cell_type": "code",
   "source": [
    "# Set random seed for reproducibility\n",
    "random_seed = 42\n",
    "\n",
    "# Shuffle the dataset\n",
    "df_shuffled = df_clean.sample(frac=1, random_state=random_seed).reset_index(drop=True)\n",
    "\n",
    "# Split index\n",
    "split_index = int(0.8 * len(df_shuffled))\n",
    "\n",
    "# Create train and test sets\n",
    "df_train = df_shuffled[:split_index].copy()\n",
    "df_test = df_shuffled[split_index:].copy()\n",
    "\n",
    "# Confirm sizes\n",
    "print(f\"Training set size: {df_train.shape[0]}\")\n",
    "print(f\"Test set size: {df_test.shape[0]}\")\n"
   ],
   "id": "ccba26f270cb2312",
   "outputs": [
    {
     "name": "stdout",
     "output_type": "stream",
     "text": [
      "Training set size: 2590\n",
      "Test set size: 648\n"
     ]
    }
   ],
   "execution_count": 23
  },
  {
   "metadata": {},
   "cell_type": "markdown",
   "source": "# Part I: Linear Regression (Multivariable)",
   "id": "3fae747ab6a142b6"
  },
  {
   "metadata": {
    "ExecuteTime": {
     "end_time": "2025-06-03T08:04:10.144987Z",
     "start_time": "2025-06-03T08:04:10.136522Z"
    }
   },
   "cell_type": "code",
   "source": [
    "# Prepare feature matrix and target vector for training\n",
    "features = top_features.index.tolist()  # Use top 5 features from correlation\n",
    "X_train = df_train[features].values\n",
    "y_train = df_train[\"Rainfall\"].values\n",
    "\n",
    "# Add bias (intercept) term to design matrix\n",
    "X_train_bias = np.c_[np.ones(X_train.shape[0]), X_train]\n",
    "\n",
    "# Compute weights using the Normal Equation\n",
    "w = np.linalg.inv(X_train_bias.T @ X_train_bias) @ X_train_bias.T @ y_train\n",
    "\n",
    "# Display weights with labels\n",
    "print(\"Estimated Weights (Normal Equation):\")\n",
    "for i, coef in enumerate(w):\n",
    "    label = \"Intercept\" if i == 0 else features[i - 1]\n",
    "    print(f\"{label}: {coef:.4f}\")\n"
   ],
   "id": "e08ba981efa64753",
   "outputs": [
    {
     "name": "stdout",
     "output_type": "stream",
     "text": [
      "Estimated Weights (Normal Equation):\n",
      "Intercept: 47.2597\n",
      "Humidity3pm: 0.0744\n",
      "Cloud3pm: 0.1435\n",
      "MaxTemp: -0.1833\n",
      "MinTemp: 0.0469\n",
      "Pressure3pm: -0.0456\n"
     ]
    }
   ],
   "execution_count": 24
  },
  {
   "metadata": {
    "ExecuteTime": {
     "end_time": "2025-06-03T08:06:31.525136Z",
     "start_time": "2025-06-03T08:06:31.514677Z"
    }
   },
   "cell_type": "code",
   "source": [
    "# Create a DataFrame version of the design matrix (for documentation/explanation)\n",
    "design_matrix_df = pd.DataFrame(X_train_bias, columns=[\"Intercept\"] + features)\n",
    "\n",
    "# Show first few rows of the design matrix\n",
    "print(\"Design Matrix (with Intercept):\")\n",
    "display(design_matrix_df.head())\n"
   ],
   "id": "b4d8fa6b524506f8",
   "outputs": [
    {
     "name": "stdout",
     "output_type": "stream",
     "text": [
      "Design Matrix (with Intercept):\n"
     ]
    },
    {
     "data": {
      "text/plain": [
       "   Intercept  Humidity3pm  Cloud3pm  MaxTemp  MinTemp  Pressure3pm\n",
       "0        1.0         50.0       7.0     18.3      6.9       1032.0\n",
       "1        1.0         58.0       6.0     25.6     17.3       1015.7\n",
       "2        1.0         81.0       7.0     22.6     18.0       1018.5\n",
       "3        1.0         56.0       7.0     26.9     19.0       1008.4\n",
       "4        1.0         65.0       8.0     24.2     16.0       1018.5"
      ],
      "text/html": [
       "<div>\n",
       "<style scoped>\n",
       "    .dataframe tbody tr th:only-of-type {\n",
       "        vertical-align: middle;\n",
       "    }\n",
       "\n",
       "    .dataframe tbody tr th {\n",
       "        vertical-align: top;\n",
       "    }\n",
       "\n",
       "    .dataframe thead th {\n",
       "        text-align: right;\n",
       "    }\n",
       "</style>\n",
       "<table border=\"1\" class=\"dataframe\">\n",
       "  <thead>\n",
       "    <tr style=\"text-align: right;\">\n",
       "      <th></th>\n",
       "      <th>Intercept</th>\n",
       "      <th>Humidity3pm</th>\n",
       "      <th>Cloud3pm</th>\n",
       "      <th>MaxTemp</th>\n",
       "      <th>MinTemp</th>\n",
       "      <th>Pressure3pm</th>\n",
       "    </tr>\n",
       "  </thead>\n",
       "  <tbody>\n",
       "    <tr>\n",
       "      <th>0</th>\n",
       "      <td>1.0</td>\n",
       "      <td>50.0</td>\n",
       "      <td>7.0</td>\n",
       "      <td>18.3</td>\n",
       "      <td>6.9</td>\n",
       "      <td>1032.0</td>\n",
       "    </tr>\n",
       "    <tr>\n",
       "      <th>1</th>\n",
       "      <td>1.0</td>\n",
       "      <td>58.0</td>\n",
       "      <td>6.0</td>\n",
       "      <td>25.6</td>\n",
       "      <td>17.3</td>\n",
       "      <td>1015.7</td>\n",
       "    </tr>\n",
       "    <tr>\n",
       "      <th>2</th>\n",
       "      <td>1.0</td>\n",
       "      <td>81.0</td>\n",
       "      <td>7.0</td>\n",
       "      <td>22.6</td>\n",
       "      <td>18.0</td>\n",
       "      <td>1018.5</td>\n",
       "    </tr>\n",
       "    <tr>\n",
       "      <th>3</th>\n",
       "      <td>1.0</td>\n",
       "      <td>56.0</td>\n",
       "      <td>7.0</td>\n",
       "      <td>26.9</td>\n",
       "      <td>19.0</td>\n",
       "      <td>1008.4</td>\n",
       "    </tr>\n",
       "    <tr>\n",
       "      <th>4</th>\n",
       "      <td>1.0</td>\n",
       "      <td>65.0</td>\n",
       "      <td>8.0</td>\n",
       "      <td>24.2</td>\n",
       "      <td>16.0</td>\n",
       "      <td>1018.5</td>\n",
       "    </tr>\n",
       "  </tbody>\n",
       "</table>\n",
       "</div>"
      ]
     },
     "metadata": {},
     "output_type": "display_data"
    }
   ],
   "execution_count": 26
  },
  {
   "metadata": {
    "ExecuteTime": {
     "end_time": "2025-06-03T08:07:15.743198Z",
     "start_time": "2025-06-03T08:07:15.718305Z"
    }
   },
   "cell_type": "code",
   "source": [
    "# Create a DataFrame of weights for better readability\n",
    "weight_labels = [\"Intercept\"] + features\n",
    "weights_df = pd.DataFrame({\n",
    "    \"Feature\": weight_labels,\n",
    "    \"Weight\": w\n",
    "})\n",
    "\n",
    "# Sort by absolute weight value (excluding intercept)\n",
    "weights_sorted = weights_df[weights_df[\"Feature\"] != \"Intercept\"].copy()\n",
    "weights_sorted[\"AbsWeight\"] = weights_sorted[\"Weight\"].abs()\n",
    "weights_sorted = weights_sorted.sort_values(by=\"AbsWeight\", ascending=False)\n",
    "\n",
    "# Display weights\n",
    "print(\"Estimated Weights:\")\n",
    "display(weights_df)\n",
    "\n",
    "print(\"\\nFeature Influence (most to least):\")\n",
    "display(weights_sorted[[\"Feature\", \"Weight\"]])\n"
   ],
   "id": "995e71c0e0b52ece",
   "outputs": [
    {
     "name": "stdout",
     "output_type": "stream",
     "text": [
      "Estimated Weights:\n"
     ]
    },
    {
     "data": {
      "text/plain": [
       "       Feature     Weight\n",
       "0    Intercept  47.259695\n",
       "1  Humidity3pm   0.074351\n",
       "2     Cloud3pm   0.143542\n",
       "3      MaxTemp  -0.183268\n",
       "4      MinTemp   0.046873\n",
       "5  Pressure3pm  -0.045557"
      ],
      "text/html": [
       "<div>\n",
       "<style scoped>\n",
       "    .dataframe tbody tr th:only-of-type {\n",
       "        vertical-align: middle;\n",
       "    }\n",
       "\n",
       "    .dataframe tbody tr th {\n",
       "        vertical-align: top;\n",
       "    }\n",
       "\n",
       "    .dataframe thead th {\n",
       "        text-align: right;\n",
       "    }\n",
       "</style>\n",
       "<table border=\"1\" class=\"dataframe\">\n",
       "  <thead>\n",
       "    <tr style=\"text-align: right;\">\n",
       "      <th></th>\n",
       "      <th>Feature</th>\n",
       "      <th>Weight</th>\n",
       "    </tr>\n",
       "  </thead>\n",
       "  <tbody>\n",
       "    <tr>\n",
       "      <th>0</th>\n",
       "      <td>Intercept</td>\n",
       "      <td>47.259695</td>\n",
       "    </tr>\n",
       "    <tr>\n",
       "      <th>1</th>\n",
       "      <td>Humidity3pm</td>\n",
       "      <td>0.074351</td>\n",
       "    </tr>\n",
       "    <tr>\n",
       "      <th>2</th>\n",
       "      <td>Cloud3pm</td>\n",
       "      <td>0.143542</td>\n",
       "    </tr>\n",
       "    <tr>\n",
       "      <th>3</th>\n",
       "      <td>MaxTemp</td>\n",
       "      <td>-0.183268</td>\n",
       "    </tr>\n",
       "    <tr>\n",
       "      <th>4</th>\n",
       "      <td>MinTemp</td>\n",
       "      <td>0.046873</td>\n",
       "    </tr>\n",
       "    <tr>\n",
       "      <th>5</th>\n",
       "      <td>Pressure3pm</td>\n",
       "      <td>-0.045557</td>\n",
       "    </tr>\n",
       "  </tbody>\n",
       "</table>\n",
       "</div>"
      ]
     },
     "metadata": {},
     "output_type": "display_data"
    },
    {
     "name": "stdout",
     "output_type": "stream",
     "text": [
      "\n",
      "Feature Influence (most to least):\n"
     ]
    },
    {
     "data": {
      "text/plain": [
       "       Feature    Weight\n",
       "3      MaxTemp -0.183268\n",
       "2     Cloud3pm  0.143542\n",
       "1  Humidity3pm  0.074351\n",
       "4      MinTemp  0.046873\n",
       "5  Pressure3pm -0.045557"
      ],
      "text/html": [
       "<div>\n",
       "<style scoped>\n",
       "    .dataframe tbody tr th:only-of-type {\n",
       "        vertical-align: middle;\n",
       "    }\n",
       "\n",
       "    .dataframe tbody tr th {\n",
       "        vertical-align: top;\n",
       "    }\n",
       "\n",
       "    .dataframe thead th {\n",
       "        text-align: right;\n",
       "    }\n",
       "</style>\n",
       "<table border=\"1\" class=\"dataframe\">\n",
       "  <thead>\n",
       "    <tr style=\"text-align: right;\">\n",
       "      <th></th>\n",
       "      <th>Feature</th>\n",
       "      <th>Weight</th>\n",
       "    </tr>\n",
       "  </thead>\n",
       "  <tbody>\n",
       "    <tr>\n",
       "      <th>3</th>\n",
       "      <td>MaxTemp</td>\n",
       "      <td>-0.183268</td>\n",
       "    </tr>\n",
       "    <tr>\n",
       "      <th>2</th>\n",
       "      <td>Cloud3pm</td>\n",
       "      <td>0.143542</td>\n",
       "    </tr>\n",
       "    <tr>\n",
       "      <th>1</th>\n",
       "      <td>Humidity3pm</td>\n",
       "      <td>0.074351</td>\n",
       "    </tr>\n",
       "    <tr>\n",
       "      <th>4</th>\n",
       "      <td>MinTemp</td>\n",
       "      <td>0.046873</td>\n",
       "    </tr>\n",
       "    <tr>\n",
       "      <th>5</th>\n",
       "      <td>Pressure3pm</td>\n",
       "      <td>-0.045557</td>\n",
       "    </tr>\n",
       "  </tbody>\n",
       "</table>\n",
       "</div>"
      ]
     },
     "metadata": {},
     "output_type": "display_data"
    }
   ],
   "execution_count": 27
  },
  {
   "metadata": {
    "ExecuteTime": {
     "end_time": "2025-06-03T08:09:24.926286Z",
     "start_time": "2025-06-03T08:09:24.648562Z"
    }
   },
   "cell_type": "code",
   "source": [
    "# --- Prepare test data ---\n",
    "X_test = df_test[features].values\n",
    "y_test = df_test[\"Rainfall\"].values\n",
    "X_test_bias = np.c_[np.ones(X_test.shape[0]), X_test]\n",
    "\n",
    "# --- Predict rainfall ---\n",
    "y_pred_train = X_train_bias @ w\n",
    "y_pred_test = X_test_bias @ w\n",
    "\n",
    "# --- Compute MSE manually ---\n",
    "mse_train = np.mean((y_train - y_pred_train) ** 2)\n",
    "mse_test = np.mean((y_test - y_pred_test) ** 2)\n",
    "\n",
    "print(f\"Training MSE: {mse_train:.4f}\")\n",
    "print(f\"Test MSE: {mse_test:.4f}\")\n",
    "\n",
    "# --- Plot predicted vs actual rainfall ---\n",
    "plt.figure(figsize=(6, 6))\n",
    "plt.scatter(y_test, y_pred_test, alpha=0.5, color='blue', edgecolor='k')\n",
    "plt.plot([0, max(y_test)], [0, max(y_test)], 'r--')\n",
    "plt.xlabel(\"Actual Rainfall\")\n",
    "plt.ylabel(\"Predicted Rainfall\")\n",
    "plt.title(\"Predicted vs Actual Rainfall (Test Set)\")\n",
    "plt.grid(True)\n",
    "plt.tight_layout()\n",
    "plt.show()\n"
   ],
   "id": "9c7b462d79d2fda7",
   "outputs": [
    {
     "name": "stdout",
     "output_type": "stream",
     "text": [
      "Training MSE: 26.1140\n",
      "Test MSE: 26.9080\n"
     ]
    },
    {
     "data": {
      "text/plain": [
       "<Figure size 600x600 with 1 Axes>"
      ],
      "image/png": "[encoded data removed]"
     },
     "metadata": {},
     "output_type": "display_data"
    }
   ],
   "execution_count": 28
  },
  {
   "metadata": {
    "ExecuteTime": {
     "end_time": "2025-06-03T08:10:47.620612Z",
     "start_time": "2025-06-03T08:10:47.614607Z"
    }
   },
   "cell_type": "code",
   "source": [
    "# --- Remove 'Humidity3pm' from features ---\n",
    "ablated_features = [f for f in features if f != \"Humidity3pm\"]\n",
    "\n",
    "# --- Rebuild design matrix without 'Humidity3pm' ---\n",
    "X_train_ab = df_train[ablated_features].values\n",
    "X_train_ab_bias = np.c_[np.ones(X_train_ab.shape[0]), X_train_ab]\n",
    "y_train_ab = df_train[\"Rainfall\"].values\n",
    "\n",
    "# --- Retrain using Normal Equation ---\n",
    "w_ab = np.linalg.inv(X_train_ab_bias.T @ X_train_ab_bias) @ X_train_ab_bias.T @ y_train_ab\n",
    "\n",
    "# --- Predict and compute new MSE on test set ---\n",
    "X_test_ab = df_test[ablated_features].values\n",
    "X_test_ab_bias = np.c_[np.ones(X_test_ab.shape[0]), X_test_ab]\n",
    "y_test_ab = df_test[\"Rainfall\"].values\n",
    "y_pred_ab = X_test_ab_bias @ w_ab\n",
    "\n",
    "mse_train_ab = np.mean((y_train_ab - X_train_ab_bias @ w_ab) ** 2)\n",
    "mse_test_ab = np.mean((y_test_ab - y_pred_ab) ** 2)\n",
    "\n",
    "# --- Display new weights and MSEs ---\n",
    "print(\"Ablated Weights (without Humidity3pm):\")\n",
    "for i, coef in enumerate(w_ab):\n",
    "    label = \"Intercept\" if i == 0 else ablated_features[i - 1]\n",
    "    print(f\"{label}: {coef:.4f}\")\n",
    "\n",
    "print(f\"\\nTrain MSE without Humidity3pm: {mse_train_ab:.4f}\")\n",
    "print(f\"Test MSE without Humidity3pm: {mse_test_ab:.4f}\")\n"
   ],
   "id": "3ee9e428fe86e16f",
   "outputs": [
    {
     "name": "stdout",
     "output_type": "stream",
     "text": [
      "Ablated Weights (without Humidity3pm):\n",
      "Intercept: 16.7370\n",
      "Cloud3pm: 0.2665\n",
      "MaxTemp: -0.3533\n",
      "MinTemp: 0.2571\n",
      "Pressure3pm: -0.0113\n",
      "\n",
      "Train MSE without Humidity3pm: 26.8649\n",
      "Test MSE without Humidity3pm: 28.2980\n"
     ]
    }
   ],
   "execution_count": 29
  },
  {
   "metadata": {
    "ExecuteTime": {
     "end_time": "2025-06-03T08:11:28.303125Z",
     "start_time": "2025-06-03T08:11:28.285124Z"
    }
   },
   "cell_type": "code",
   "source": [
    "# --- Add a random feature (standard normal distribution) ---\n",
    "np.random.seed(42)  # for reproducibility\n",
    "df_train_rand = df_train.copy()\n",
    "df_test_rand = df_test.copy()\n",
    "\n",
    "df_train_rand[\"RandomFeature\"] = np.random.randn(len(df_train))\n",
    "df_test_rand[\"RandomFeature\"] = np.random.randn(len(df_test))\n",
    "\n",
    "# --- Extend feature list ---\n",
    "features_with_random = features + [\"RandomFeature\"]\n",
    "\n",
    "# --- Prepare new design matrices ---\n",
    "X_train_rand = df_train_rand[features_with_random].values\n",
    "X_train_rand_bias = np.c_[np.ones(X_train_rand.shape[0]), X_train_rand]\n",
    "y_train_rand = df_train_rand[\"Rainfall\"].values\n",
    "\n",
    "X_test_rand = df_test_rand[features_with_random].values\n",
    "X_test_rand_bias = np.c_[np.ones(X_test_rand.shape[0]), X_test_rand]\n",
    "y_test_rand = df_test_rand[\"Rainfall\"].values\n",
    "\n",
    "# --- Train model using Normal Equation ---\n",
    "w_rand = np.linalg.inv(X_train_rand_bias.T @ X_train_rand_bias) @ X_train_rand_bias.T @ y_train_rand\n",
    "\n",
    "# --- Predict and compute MSE ---\n",
    "y_pred_rand = X_test_rand_bias @ w_rand\n",
    "mse_train_rand = np.mean((y_train_rand - X_train_rand_bias @ w_rand) ** 2)\n",
    "mse_test_rand = np.mean((y_test_rand - y_pred_rand) ** 2)\n",
    "\n",
    "# --- Show weights and test MSE ---\n",
    "print(\"Weights with Random Feature:\")\n",
    "for i, coef in enumerate(w_rand):\n",
    "    label = \"Intercept\" if i == 0 else features_with_random[i - 1]\n",
    "    print(f\"{label}: {coef:.4f}\")\n",
    "\n",
    "print(f\"\\nTrain MSE with Random Feature: {mse_train_rand:.4f}\")\n",
    "print(f\"Test MSE with Random Feature: {mse_test_rand:.4f}\")\n"
   ],
   "id": "b2ee2fb08f3429f6",
   "outputs": [
    {
     "name": "stdout",
     "output_type": "stream",
     "text": [
      "Weights with Random Feature:\n",
      "Intercept: 46.7899\n",
      "Humidity3pm: 0.0739\n",
      "Cloud3pm: 0.1435\n",
      "MaxTemp: -0.1822\n",
      "MinTemp: 0.0463\n",
      "Pressure3pm: -0.0451\n",
      "RandomFeature: -0.1249\n",
      "\n",
      "Train MSE with Random Feature: 26.0989\n",
      "Test MSE with Random Feature: 26.9154\n"
     ]
    }
   ],
   "execution_count": 30
  },
  {
   "metadata": {},
   "cell_type": "code",
   "outputs": [],
   "execution_count": null,
   "source": "",
   "id": "afba7f56d510b1ab"
  }
 ],
 "metadata": {
  "kernelspec": {
   "display_name": "Python 3",
   "language": "python",
   "name": "python3"
  },
  "language_info": {
   "codemirror_mode": {
    "name": "ipython",
    "version": 2
   },
   "file_extension": ".py",
   "mimetype": "text/x-python",
   "name": "python",
   "nbconvert_exporter": "python",
   "pygments_lexer": "ipython2",
   "version": "2.7.6"
  }
 },
 "nbformat": 4,
 "nbformat_minor": 5
}
